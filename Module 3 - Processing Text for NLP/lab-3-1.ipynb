{
 "cells": [
  {
   "cell_type": "markdown",
   "metadata": {},
   "source": [
    "Version: 02.14.2023"
   ]
  },
  {
   "cell_type": "markdown",
   "metadata": {},
   "source": [
    "# Lab 3.1: Extracting Text from Webpages and Images\n",
    "\n",
    "In this lab, you will use Beautiful Soup and Amazon Textract to extract text from the web and turn the results into a pandas dataframe.\n",
    "\n",
    "In the second part of the lab, you will experiment with Amazon Textract to extract text from images.\n",
    "\n",
    "\n",
    "## Lab steps\n",
    "\n",
    "To complete this lab, you will follow these steps:\n",
    "\n",
    "1. [Extracting information from a webpage](#1.-Extracting-information-from-a-webpage)\n",
    "2. [Extracting text from images](#2.-Extracting-text-from-images)\n",
    "    \n"
   ]
  },
  {
   "cell_type": "code",
   "execution_count": 1,
   "metadata": {},
   "outputs": [
    {
     "name": "stdout",
     "output_type": "stream",
     "text": [
      "Requirement already satisfied: pip in /home/ec2-user/anaconda3/envs/python3/lib/python3.10/site-packages (25.0.1)\n",
      "Collecting pip\n",
      "  Downloading pip-25.1.1-py3-none-any.whl.metadata (3.6 kB)\n",
      "Downloading pip-25.1.1-py3-none-any.whl (1.8 MB)\n",
      "\u001b[2K   \u001b[90m━━━━━━━━━━━━━━━━━━━━━━━━━━━━━━━━━━━━━━━━\u001b[0m \u001b[32m1.8/1.8 MB\u001b[0m \u001b[31m62.6 MB/s\u001b[0m eta \u001b[36m0:00:00\u001b[0m\n",
      "\u001b[?25hInstalling collected packages: pip\n",
      "  Attempting uninstall: pip\n",
      "    Found existing installation: pip 25.0.1\n",
      "    Uninstalling pip-25.0.1:\n",
      "      Successfully uninstalled pip-25.0.1\n",
      "Successfully installed pip-25.1.1\n",
      "Requirement already satisfied: sagemaker in /home/ec2-user/anaconda3/envs/python3/lib/python3.10/site-packages (2.243.3)\n",
      "Collecting sagemaker\n",
      "  Downloading sagemaker-2.244.0-py3-none-any.whl.metadata (16 kB)\n",
      "Requirement already satisfied: attrs<24,>=23.1.0 in /home/ec2-user/anaconda3/envs/python3/lib/python3.10/site-packages (from sagemaker) (23.2.0)\n",
      "Requirement already satisfied: boto3<2.0,>=1.35.75 in /home/ec2-user/anaconda3/envs/python3/lib/python3.10/site-packages (from sagemaker) (1.38.2)\n",
      "Requirement already satisfied: cloudpickle>=2.2.1 in /home/ec2-user/anaconda3/envs/python3/lib/python3.10/site-packages (from sagemaker) (3.1.1)\n",
      "Requirement already satisfied: docker in /home/ec2-user/anaconda3/envs/python3/lib/python3.10/site-packages (from sagemaker) (7.1.0)\n",
      "Requirement already satisfied: fastapi in /home/ec2-user/anaconda3/envs/python3/lib/python3.10/site-packages (from sagemaker) (0.115.12)\n",
      "Requirement already satisfied: google-pasta in /home/ec2-user/anaconda3/envs/python3/lib/python3.10/site-packages (from sagemaker) (0.2.0)\n",
      "Requirement already satisfied: importlib-metadata<7.0,>=1.4.0 in /home/ec2-user/anaconda3/envs/python3/lib/python3.10/site-packages (from sagemaker) (6.11.0)\n",
      "Requirement already satisfied: jsonschema in /home/ec2-user/anaconda3/envs/python3/lib/python3.10/site-packages (from sagemaker) (4.23.0)\n",
      "Requirement already satisfied: numpy==1.26.4 in /home/ec2-user/anaconda3/envs/python3/lib/python3.10/site-packages (from sagemaker) (1.26.4)\n",
      "Requirement already satisfied: omegaconf<=2.3,>=2.2 in /home/ec2-user/anaconda3/envs/python3/lib/python3.10/site-packages (from sagemaker) (2.3.0)\n",
      "Requirement already satisfied: packaging<25,>=23.0 in /home/ec2-user/anaconda3/envs/python3/lib/python3.10/site-packages (from sagemaker) (24.2)\n",
      "Requirement already satisfied: pandas in /home/ec2-user/anaconda3/envs/python3/lib/python3.10/site-packages (from sagemaker) (1.5.3)\n",
      "Requirement already satisfied: pathos in /home/ec2-user/anaconda3/envs/python3/lib/python3.10/site-packages (from sagemaker) (0.3.4)\n",
      "Requirement already satisfied: platformdirs in /home/ec2-user/anaconda3/envs/python3/lib/python3.10/site-packages (from sagemaker) (4.3.7)\n",
      "Requirement already satisfied: protobuf<6.0,>=3.12 in /home/ec2-user/anaconda3/envs/python3/lib/python3.10/site-packages (from sagemaker) (5.29.4)\n",
      "Requirement already satisfied: psutil in /home/ec2-user/anaconda3/envs/python3/lib/python3.10/site-packages (from sagemaker) (6.1.1)\n",
      "Requirement already satisfied: pyyaml>=6.0.1 in /home/ec2-user/anaconda3/envs/python3/lib/python3.10/site-packages (from sagemaker) (6.0.2)\n",
      "Requirement already satisfied: requests in /home/ec2-user/anaconda3/envs/python3/lib/python3.10/site-packages (from sagemaker) (2.32.3)\n",
      "Requirement already satisfied: sagemaker-core<2.0.0,>=1.0.17 in /home/ec2-user/anaconda3/envs/python3/lib/python3.10/site-packages (from sagemaker) (1.0.29)\n",
      "Requirement already satisfied: schema in /home/ec2-user/anaconda3/envs/python3/lib/python3.10/site-packages (from sagemaker) (0.7.7)\n",
      "Requirement already satisfied: smdebug-rulesconfig==1.0.1 in /home/ec2-user/anaconda3/envs/python3/lib/python3.10/site-packages (from sagemaker) (1.0.1)\n",
      "Requirement already satisfied: tblib<4,>=1.7.0 in /home/ec2-user/anaconda3/envs/python3/lib/python3.10/site-packages (from sagemaker) (3.1.0)\n",
      "Requirement already satisfied: tqdm in /home/ec2-user/anaconda3/envs/python3/lib/python3.10/site-packages (from sagemaker) (4.67.1)\n",
      "Requirement already satisfied: urllib3<3.0.0,>=1.26.8 in /home/ec2-user/anaconda3/envs/python3/lib/python3.10/site-packages (from sagemaker) (2.4.0)\n",
      "Requirement already satisfied: uvicorn in /home/ec2-user/anaconda3/envs/python3/lib/python3.10/site-packages (from sagemaker) (0.34.2)\n",
      "Requirement already satisfied: botocore<1.39.0,>=1.38.2 in /home/ec2-user/anaconda3/envs/python3/lib/python3.10/site-packages (from boto3<2.0,>=1.35.75->sagemaker) (1.38.2)\n",
      "Requirement already satisfied: jmespath<2.0.0,>=0.7.1 in /home/ec2-user/anaconda3/envs/python3/lib/python3.10/site-packages (from boto3<2.0,>=1.35.75->sagemaker) (1.0.1)\n",
      "Requirement already satisfied: s3transfer<0.13.0,>=0.12.0 in /home/ec2-user/anaconda3/envs/python3/lib/python3.10/site-packages (from boto3<2.0,>=1.35.75->sagemaker) (0.12.0)\n",
      "Requirement already satisfied: python-dateutil<3.0.0,>=2.1 in /home/ec2-user/anaconda3/envs/python3/lib/python3.10/site-packages (from botocore<1.39.0,>=1.38.2->boto3<2.0,>=1.35.75->sagemaker) (2.9.0.post0)\n",
      "Requirement already satisfied: zipp>=0.5 in /home/ec2-user/anaconda3/envs/python3/lib/python3.10/site-packages (from importlib-metadata<7.0,>=1.4.0->sagemaker) (3.21.0)\n",
      "Requirement already satisfied: antlr4-python3-runtime==4.9.* in /home/ec2-user/anaconda3/envs/python3/lib/python3.10/site-packages (from omegaconf<=2.3,>=2.2->sagemaker) (4.9.3)\n",
      "Requirement already satisfied: six>=1.5 in /home/ec2-user/anaconda3/envs/python3/lib/python3.10/site-packages (from python-dateutil<3.0.0,>=2.1->botocore<1.39.0,>=1.38.2->boto3<2.0,>=1.35.75->sagemaker) (1.17.0)\n",
      "Requirement already satisfied: pydantic<3.0.0,>=2.0.0 in /home/ec2-user/anaconda3/envs/python3/lib/python3.10/site-packages (from sagemaker-core<2.0.0,>=1.0.17->sagemaker) (2.9.2)\n",
      "Requirement already satisfied: rich<14.0.0,>=13.0.0 in /home/ec2-user/anaconda3/envs/python3/lib/python3.10/site-packages (from sagemaker-core<2.0.0,>=1.0.17->sagemaker) (13.9.4)\n",
      "Requirement already satisfied: mock<5.0,>4.0 in /home/ec2-user/anaconda3/envs/python3/lib/python3.10/site-packages (from sagemaker-core<2.0.0,>=1.0.17->sagemaker) (4.0.3)\n",
      "Requirement already satisfied: jsonschema-specifications>=2023.03.6 in /home/ec2-user/anaconda3/envs/python3/lib/python3.10/site-packages (from jsonschema->sagemaker) (2024.10.1)\n",
      "Requirement already satisfied: referencing>=0.28.4 in /home/ec2-user/anaconda3/envs/python3/lib/python3.10/site-packages (from jsonschema->sagemaker) (0.36.2)\n",
      "Requirement already satisfied: rpds-py>=0.7.1 in /home/ec2-user/anaconda3/envs/python3/lib/python3.10/site-packages (from jsonschema->sagemaker) (0.24.0)\n",
      "Requirement already satisfied: annotated-types>=0.6.0 in /home/ec2-user/anaconda3/envs/python3/lib/python3.10/site-packages (from pydantic<3.0.0,>=2.0.0->sagemaker-core<2.0.0,>=1.0.17->sagemaker) (0.7.0)\n",
      "Requirement already satisfied: pydantic-core==2.23.4 in /home/ec2-user/anaconda3/envs/python3/lib/python3.10/site-packages (from pydantic<3.0.0,>=2.0.0->sagemaker-core<2.0.0,>=1.0.17->sagemaker) (2.23.4)\n",
      "Requirement already satisfied: typing-extensions>=4.6.1 in /home/ec2-user/anaconda3/envs/python3/lib/python3.10/site-packages (from pydantic<3.0.0,>=2.0.0->sagemaker-core<2.0.0,>=1.0.17->sagemaker) (4.13.2)\n",
      "Requirement already satisfied: markdown-it-py>=2.2.0 in /home/ec2-user/anaconda3/envs/python3/lib/python3.10/site-packages (from rich<14.0.0,>=13.0.0->sagemaker-core<2.0.0,>=1.0.17->sagemaker) (3.0.0)\n",
      "Requirement already satisfied: pygments<3.0.0,>=2.13.0 in /home/ec2-user/anaconda3/envs/python3/lib/python3.10/site-packages (from rich<14.0.0,>=13.0.0->sagemaker-core<2.0.0,>=1.0.17->sagemaker) (2.19.1)\n",
      "Requirement already satisfied: mdurl~=0.1 in /home/ec2-user/anaconda3/envs/python3/lib/python3.10/site-packages (from markdown-it-py>=2.2.0->rich<14.0.0,>=13.0.0->sagemaker-core<2.0.0,>=1.0.17->sagemaker) (0.1.2)\n",
      "Requirement already satisfied: charset_normalizer<4,>=2 in /home/ec2-user/anaconda3/envs/python3/lib/python3.10/site-packages (from requests->sagemaker) (3.4.1)\n",
      "Requirement already satisfied: idna<4,>=2.5 in /home/ec2-user/anaconda3/envs/python3/lib/python3.10/site-packages (from requests->sagemaker) (3.10)\n",
      "Requirement already satisfied: certifi>=2017.4.17 in /home/ec2-user/anaconda3/envs/python3/lib/python3.10/site-packages (from requests->sagemaker) (2025.1.31)\n",
      "Requirement already satisfied: starlette<0.47.0,>=0.40.0 in /home/ec2-user/anaconda3/envs/python3/lib/python3.10/site-packages (from fastapi->sagemaker) (0.46.2)\n",
      "Requirement already satisfied: anyio<5,>=3.6.2 in /home/ec2-user/anaconda3/envs/python3/lib/python3.10/site-packages (from starlette<0.47.0,>=0.40.0->fastapi->sagemaker) (4.9.0)\n",
      "Requirement already satisfied: exceptiongroup>=1.0.2 in /home/ec2-user/anaconda3/envs/python3/lib/python3.10/site-packages (from anyio<5,>=3.6.2->starlette<0.47.0,>=0.40.0->fastapi->sagemaker) (1.2.2)\n",
      "Requirement already satisfied: sniffio>=1.1 in /home/ec2-user/anaconda3/envs/python3/lib/python3.10/site-packages (from anyio<5,>=3.6.2->starlette<0.47.0,>=0.40.0->fastapi->sagemaker) (1.3.1)\n",
      "Requirement already satisfied: pytz>=2020.1 in /home/ec2-user/anaconda3/envs/python3/lib/python3.10/site-packages (from pandas->sagemaker) (2025.2)\n",
      "Requirement already satisfied: ppft>=1.7.7 in /home/ec2-user/anaconda3/envs/python3/lib/python3.10/site-packages (from pathos->sagemaker) (1.7.7)\n",
      "Requirement already satisfied: dill>=0.4.0 in /home/ec2-user/anaconda3/envs/python3/lib/python3.10/site-packages (from pathos->sagemaker) (0.4.0)\n",
      "Requirement already satisfied: pox>=0.3.6 in /home/ec2-user/anaconda3/envs/python3/lib/python3.10/site-packages (from pathos->sagemaker) (0.3.6)\n",
      "Requirement already satisfied: multiprocess>=0.70.18 in /home/ec2-user/anaconda3/envs/python3/lib/python3.10/site-packages (from pathos->sagemaker) (0.70.18)\n",
      "Requirement already satisfied: click>=7.0 in /home/ec2-user/anaconda3/envs/python3/lib/python3.10/site-packages (from uvicorn->sagemaker) (8.1.8)\n",
      "Requirement already satisfied: h11>=0.8 in /home/ec2-user/anaconda3/envs/python3/lib/python3.10/site-packages (from uvicorn->sagemaker) (0.14.0)\n",
      "Downloading sagemaker-2.244.0-py3-none-any.whl (1.7 MB)\n",
      "\u001b[2K   \u001b[90m━━━━━━━━━━━━━━━━━━━━━━━━━━━━━━━━━━━━━━━━\u001b[0m \u001b[32m1.7/1.7 MB\u001b[0m \u001b[31m50.3 MB/s\u001b[0m eta \u001b[36m0:00:00\u001b[0m\n",
      "\u001b[?25hInstalling collected packages: sagemaker\n",
      "  Attempting uninstall: sagemaker\n",
      "    Found existing installation: sagemaker 2.243.3\n",
      "    Uninstalling sagemaker-2.243.3:\n",
      "      Successfully uninstalled sagemaker-2.243.3\n",
      "Successfully installed sagemaker-2.244.0\n",
      "Requirement already satisfied: beautifulsoup4 in /home/ec2-user/anaconda3/envs/python3/lib/python3.10/site-packages (4.13.4)\n",
      "Requirement already satisfied: soupsieve>1.2 in /home/ec2-user/anaconda3/envs/python3/lib/python3.10/site-packages (from beautifulsoup4) (2.5)\n",
      "Requirement already satisfied: typing-extensions>=4.0.0 in /home/ec2-user/anaconda3/envs/python3/lib/python3.10/site-packages (from beautifulsoup4) (4.13.2)\n",
      "Collecting html5lib\n",
      "  Downloading html5lib-1.1-py2.py3-none-any.whl.metadata (16 kB)\n",
      "Requirement already satisfied: six>=1.9 in /home/ec2-user/anaconda3/envs/python3/lib/python3.10/site-packages (from html5lib) (1.17.0)\n",
      "Requirement already satisfied: webencodings in /home/ec2-user/anaconda3/envs/python3/lib/python3.10/site-packages (from html5lib) (0.5.1)\n",
      "Downloading html5lib-1.1-py2.py3-none-any.whl (112 kB)\n",
      "Installing collected packages: html5lib\n",
      "Successfully installed html5lib-1.1\n",
      "Requirement already satisfied: requests in /home/ec2-user/anaconda3/envs/python3/lib/python3.10/site-packages (2.32.3)\n",
      "Requirement already satisfied: charset_normalizer<4,>=2 in /home/ec2-user/anaconda3/envs/python3/lib/python3.10/site-packages (from requests) (3.4.1)\n",
      "Requirement already satisfied: idna<4,>=2.5 in /home/ec2-user/anaconda3/envs/python3/lib/python3.10/site-packages (from requests) (3.10)\n",
      "Requirement already satisfied: urllib3<3,>=1.21.1 in /home/ec2-user/anaconda3/envs/python3/lib/python3.10/site-packages (from requests) (2.4.0)\n",
      "Requirement already satisfied: certifi>=2017.4.17 in /home/ec2-user/anaconda3/envs/python3/lib/python3.10/site-packages (from requests) (2025.1.31)\n",
      "Collecting textract-trp\n",
      "  Downloading textract_trp-0.1.3-py3-none-any.whl.metadata (3.0 kB)\n",
      "Downloading textract_trp-0.1.3-py3-none-any.whl (5.8 kB)\n",
      "Installing collected packages: textract-trp\n",
      "Successfully installed textract-trp-0.1.3\n"
     ]
    }
   ],
   "source": [
    "#Upgrade dependencies\n",
    "!pip install --upgrade pip\n",
    "!pip install --upgrade sagemaker\n",
    "!pip install --upgrade beautifulsoup4\n",
    "!pip install --upgrade html5lib\n",
    "!pip install --upgrade requests\n",
    "!pip install --upgrade textract-trp"
   ]
  },
  {
   "cell_type": "markdown",
   "metadata": {},
   "source": [
    "## 1. Extracting information from a webpage\n",
    "([Go to top](#Lab-3.1:-Extracting-text-from-the-web))\n",
    "\n",
    "In this section, you will use Beautiful Soup to extract the titles, authors, summaries, published data, and hyperlinks from blog posts. The extracted text could then be used in a downstream NLP task, such as topic extraction, sentiment analysis, text-to-speech, or translation."
   ]
  },
  {
   "cell_type": "markdown",
   "metadata": {},
   "source": [
    "Start by importing both the **Beautiful Soup** and **requests** packages."
   ]
  },
  {
   "cell_type": "code",
   "execution_count": 2,
   "metadata": {},
   "outputs": [],
   "source": [
    "from bs4 import BeautifulSoup\n",
    "import requests"
   ]
  },
  {
   "cell_type": "markdown",
   "metadata": {},
   "source": [
    "The blog post you will parse is the [AWS Machine Learning blog](https://aws.amazon.com/blogs/machine-learning/) at https://aws.amazon.com/blogs/machine-learning/.\n",
    "\n",
    "Using your web browser, open the AWS Machine Learning page. \n",
    "\n",
    "Use the browser's *inspector mode* to discover the structure of the page. In Mozilla FireFox and Google Chrome, you can open the inspector by pressing CTRL+SHIFT+C. If you use a different browser, consult the browser documentation.\n",
    "\n",
    "View the different elements of the webpage by moving your pointer over the page. Move the pointer over the following elements, and see whether you can find the tags that are used to identify the informtion:\n",
    "\n",
    "* Title of the blog post\n",
    "* Author\n",
    "* Date published\n",
    "* Text summary\n",
    "* Hyperlink to the blog post\n",
    "\n",
    "Don't worry if you can't find all the tags. The following code walkthrough will help you find tags.\n"
   ]
  },
  {
   "cell_type": "markdown",
   "metadata": {},
   "source": [
    "First, use the **requests** library to load the webpage. Before you proceed, confirm that the HTTP status code is *200*."
   ]
  },
  {
   "cell_type": "code",
   "execution_count": 3,
   "metadata": {},
   "outputs": [
    {
     "data": {
      "text/plain": [
       "200"
      ]
     },
     "execution_count": 3,
     "metadata": {},
     "output_type": "execute_result"
    }
   ],
   "source": [
    "page = requests.get('https://aws.amazon.com/blogs/machine-learning/')\n",
    "page.status_code"
   ]
  },
  {
   "cell_type": "markdown",
   "metadata": {},
   "source": [
    "Load the **content** from the page into a **soup** object."
   ]
  },
  {
   "cell_type": "code",
   "execution_count": 4,
   "metadata": {},
   "outputs": [],
   "source": [
    "soup = BeautifulSoup(page.content, 'html.parser')"
   ]
  },
  {
   "cell_type": "markdown",
   "metadata": {},
   "source": [
    "View the entire page by using the `soup.prettify()` function.\n",
    "\n",
    "**Note:** The content from the AWS Blogs page might be lengthy. To move to the next task, scroll down in this notebook."
   ]
  },
  {
   "cell_type": "code",
   "execution_count": null,
   "metadata": {},
   "outputs": [],
   "source": [
    "print(soup.prettify())"
   ]
  },
  {
   "cell_type": "markdown",
   "metadata": {},
   "source": [
    "All the elements on the page can be accessed using dot (.) notation. Thus, to view the title, you could use `soup.title`. If you want only the `text`, use the text element as follows:"
   ]
  },
  {
   "cell_type": "code",
   "execution_count": 6,
   "metadata": {},
   "outputs": [
    {
     "name": "stdout",
     "output_type": "stream",
     "text": [
      "AWS Machine Learning Blog\n"
     ]
    }
   ],
   "source": [
    "print(soup.title.text)"
   ]
  },
  {
   "cell_type": "markdown",
   "metadata": {},
   "source": [
    "When you used the inspector to search for tags on the AWS Blogs page, you might have found that blog-post content is organized/categorized/marked with `<article>` tags, which indicate a self-contained unit of content."
   ]
  },
  {
   "cell_type": "code",
   "execution_count": 7,
   "metadata": {},
   "outputs": [
    {
     "name": "stdout",
     "output_type": "stream",
     "text": [
      "<article class=\"blog-post\" typeof=\"TechArticle\" vocab=\"https://schema.org/\">\n",
      " <meta content=\"en-US\" property=\"inLanguage\"/>\n",
      " <meta content=\"https://d2908q01vomqb2.cloudfront.net/f1f836cb4ea6efb2a0b1b99f41ad8b103eff4b59/2025/05/01/ML-16708-Image1.png\" property=\"image\"/>\n",
      " <div class=\"lb-row lb-snap\">\n",
      "  <div class=\"lb-col lb-mid-6 lb-tiny-24\">\n",
      "   <a href=\"https://aws.amazon.com/blogs/machine-learning/elevate-marketing-intelligence-with-amazon-bedrock-and-llms-for-content-creation-sentiment-analysis-and-campaign-performance-evaluation/\" property=\"url\" rel=\"bookmark\">\n",
      "    <img alt=\"\" class=\"attachment-large size-large wp-post-image\" height=\"318\" src=\"https://d2908q01vomqb2.cloudfront.net/f1f836cb4ea6efb2a0b1b99f41ad8b103eff4b59/2025/05/01/ML-16708-Image1.png\" width=\"936\"/>\n",
      "   </a>\n",
      "  </div>\n",
      "  <div class=\"lb-col lb-mid-18 lb-tiny-24\">\n",
      "   <h2 class=\"lb-bold blog-post-title\">\n",
      "    <a href=\"https://aws.amazon.com/blogs/machine-learning/elevate-marketing-intelligence-with-amazon-bedrock-and-llms-for-content-creation-sentiment-analysis-and-campaign-performance-evaluation/\" property=\"url\" rel=\"bookmark\">\n",
      "     <span property=\"name headline\">\n",
      "      Elevate marketing intelligence with Amazon Bedrock and LLMs for content creation, sentiment analysis, and campaign performance evaluation\n",
      "     </span>\n",
      "    </a>\n",
      "   </h2>\n",
      "   <footer class=\"blog-post-meta\" data-lb-comp=\"aws-blog:share-dialog\">\n",
      "    <span>\n",
      "     by\n",
      "     <span property=\"author\" typeof=\"Person\">\n",
      "      <span property=\"name\">\n",
      "       Namita Mathew\n",
      "      </span>\n",
      "     </span>\n",
      "     ,\n",
      "     <span property=\"author\" typeof=\"Person\">\n",
      "      <span property=\"name\">\n",
      "       Mayank Agrawal\n",
      "      </span>\n",
      "     </span>\n",
      "     ,\n",
      "     <span property=\"author\" typeof=\"Person\">\n",
      "      <span property=\"name\">\n",
      "       Arghya Banerjee\n",
      "      </span>\n",
      "     </span>\n",
      "     ,\n",
      "     <span property=\"author\" typeof=\"Person\">\n",
      "      <span property=\"name\">\n",
      "       Dhara Vaishnav\n",
      "      </span>\n",
      "     </span>\n",
      "     , and\n",
      "     <span property=\"author\" typeof=\"Person\">\n",
      "      <span property=\"name\">\n",
      "       Wesley Petry\n",
      "      </span>\n",
      "     </span>\n",
      "    </span>\n",
      "    <span>\n",
      "     on\n",
      "     <time datetime=\"2025-05-09T08:36:40-08:00\" property=\"datePublished\">\n",
      "      09 MAY 2025\n",
      "     </time>\n",
      "    </span>\n",
      "    <span>\n",
      "     in\n",
      "     <span class=\"blog-post-categories\">\n",
      "      <a href=\"https://aws.amazon.com/blogs/machine-learning/category/learning-levels/advanced-300/\" title=\"View all posts in Advanced (300)\">\n",
      "       <span property=\"articleSection\">\n",
      "        Advanced (300)\n",
      "       </span>\n",
      "      </a>\n",
      "      ,\n",
      "      <a href=\"https://aws.amazon.com/blogs/machine-learning/category/artificial-intelligence/amazon-machine-learning/amazon-bedrock/\" title=\"View all posts in Amazon Bedrock\">\n",
      "       <span property=\"articleSection\">\n",
      "        Amazon Bedrock\n",
      "       </span>\n",
      "      </a>\n",
      "      ,\n",
      "      <a href=\"https://aws.amazon.com/blogs/machine-learning/category/artificial-intelligence/amazon-machine-learning/amazon-bedrock/amazon-nova/\" title=\"View all posts in Amazon Nova\">\n",
      "       <span property=\"articleSection\">\n",
      "        Amazon Nova\n",
      "       </span>\n",
      "      </a>\n",
      "      ,\n",
      "      <a href=\"https://aws.amazon.com/blogs/machine-learning/category/responsible-ai/\" title=\"View all posts in Responsible AI\">\n",
      "       <span property=\"articleSection\">\n",
      "        Responsible AI\n",
      "       </span>\n",
      "      </a>\n",
      "      ,\n",
      "      <a href=\"https://aws.amazon.com/blogs/machine-learning/category/post-types/technical-how-to/\" title=\"View all posts in Technical How-to\">\n",
      "       <span property=\"articleSection\">\n",
      "        Technical How-to\n",
      "       </span>\n",
      "      </a>\n",
      "     </span>\n",
      "    </span>\n",
      "    <span>\n",
      "     <a href=\"https://aws.amazon.com/blogs/machine-learning/elevate-marketing-intelligence-with-amazon-bedrock-and-llms-for-content-creation-sentiment-analysis-and-campaign-performance-evaluation/\" property=\"url\">\n",
      "      Permalink\n",
      "     </a>\n",
      "    </span>\n",
      "    <span>\n",
      "     <a href=\"https://aws.amazon.com/blogs/machine-learning/elevate-marketing-intelligence-with-amazon-bedrock-and-llms-for-content-creation-sentiment-analysis-and-campaign-performance-evaluation/#Comments\">\n",
      "      <i class=\"icon-comment\">\n",
      "      </i>\n",
      "      Comments\n",
      "     </a>\n",
      "    </span>\n",
      "    <span>\n",
      "     <a data-share-dialog-toggle=\"\" href=\"#\" role=\"button\">\n",
      "      <span class=\"span icon-share\">\n",
      "      </span>\n",
      "      Share\n",
      "     </a>\n",
      "    </span>\n",
      "    <div class=\"blog-share-dialog\" data-share-dialog=\"\" style=\"display: none;\">\n",
      "     <ul>\n",
      "      <li>\n",
      "       <a aria-label=\"Share on Facebook\" class=\"lb-txt\" href=\"https://www.facebook.com/sharer/sharer.php?u=https://aws.amazon.com/blogs/machine-learning/elevate-marketing-intelligence-with-amazon-bedrock-and-llms-for-content-creation-sentiment-analysis-and-campaign-performance-evaluation/\" rel=\"noopener noreferrer\" target=\"_blank\">\n",
      "        <span class=\"icon-facebook-square\">\n",
      "        </span>\n",
      "       </a>\n",
      "      </li>\n",
      "      <li>\n",
      "       <a aria-label=\"Share on Twitter\" class=\"lb-txt\" href=\"https://twitter.com/intent/tweet/?text=Elevate%20marketing%20intelligence%20with%20Amazon%20Bedrock%20and%20LLMs%20for%20content%20creation%2C%20sentiment%20analysis%2C%20and%20campaign%20performance%20evaluation&amp;via=awscloud&amp;url=https://aws.amazon.com/blogs/machine-learning/elevate-marketing-intelligence-with-amazon-bedrock-and-llms-for-content-creation-sentiment-analysis-and-campaign-performance-evaluation/\" rel=\"noopener noreferrer\" target=\"_blank\">\n",
      "        <span class=\"icon-twitter-square\">\n",
      "        </span>\n",
      "       </a>\n",
      "      </li>\n",
      "      <li>\n",
      "       <a aria-label=\"Share on LinkedIn\" class=\"lb-txt\" href=\"https://www.linkedin.com/shareArticle?mini=true&amp;title=Elevate%20marketing%20intelligence%20with%20Amazon%20Bedrock%20and%20LLMs%20for%20content%20creation%2C%20sentiment%20analysis%2C%20and%20campaign%20performance%20evaluation&amp;source=Amazon%20Web%20Services&amp;url=https://aws.amazon.com/blogs/machine-learning/elevate-marketing-intelligence-with-amazon-bedrock-and-llms-for-content-creation-sentiment-analysis-and-campaign-performance-evaluation/\" rel=\"noopener noreferrer\" target=\"_blank\">\n",
      "        <span class=\"icon-linkedin-square\">\n",
      "        </span>\n",
      "       </a>\n",
      "      </li>\n",
      "      <li>\n",
      "       <a aria-label=\"Share on Email\" class=\"lb-txt\" href=\"mailto:?subject=Elevate%20marketing%20intelligence%20with%20Amazon%20Bedrock%20and%20LLMs%20for%20content%20creation%2C%20sentiment%20analysis%2C%20and%20campaign%20performance%20evaluation&amp;body=Elevate%20marketing%20intelligence%20with%20Amazon%20Bedrock%20and%20LLMs%20for%20content%20creation%2C%20sentiment%20analysis%2C%20and%20campaign%20performance%20evaluation%0A%0Ahttps://aws.amazon.com/blogs/machine-learning/elevate-marketing-intelligence-with-amazon-bedrock-and-llms-for-content-creation-sentiment-analysis-and-campaign-performance-evaluation/\" rel=\"noopener noreferrer\" target=\"_blank\">\n",
      "        <span class=\"icon-envelope-square\">\n",
      "        </span>\n",
      "       </a>\n",
      "      </li>\n",
      "      <li class=\"blog-share-dialog-url\">\n",
      "       <input data-share-dialog-url=\"\" readonly=\"\" title=\"Link to Elevate marketing intelligence with Amazon Bedrock and LLMs for content creation, sentiment analysis, and campaign performance evaluation\" type=\"text\" value=\"https://aws.amazon.com/blogs/machine-learning/elevate-marketing-intelligence-with-amazon-bedrock-and-llms-for-content-creation-sentiment-analysis-and-campaign-performance-evaluation/\"/>\n",
      "      </li>\n",
      "     </ul>\n",
      "    </div>\n",
      "   </footer>\n",
      "   <section class=\"blog-post-excerpt lb-rtxt\" property=\"description\">\n",
      "    <p>\n",
      "     In the media and entertainment industry, understanding and predicting the effectiveness of marketing campaigns is crucial for success. Marketing campaigns are the driving force behind successful businesses, playing a pivotal role in attracting new customers, retaining existing ones, and ultimately boosting revenue. However, launching a campaign isn’t enough; to maximize their impact and help achieve […]\n",
      "    </p>\n",
      "   </section>\n",
      "  </div>\n",
      " </div>\n",
      "</article>\n",
      "\n"
     ]
    }
   ],
   "source": [
    "print(soup.article.prettify())"
   ]
  },
  {
   "cell_type": "markdown",
   "metadata": {},
   "source": [
    "Review the output. Can you find the title?"
   ]
  },
  {
   "cell_type": "markdown",
   "metadata": {},
   "source": [
    "The title can be found at `soup.article.h2.span`:"
   ]
  },
  {
   "cell_type": "code",
   "execution_count": 8,
   "metadata": {},
   "outputs": [
    {
     "name": "stdout",
     "output_type": "stream",
     "text": [
      "<span property=\"name headline\">\n",
      " Elevate marketing intelligence with Amazon Bedrock and LLMs for content creation, sentiment analysis, and campaign performance evaluation\n",
      "</span>\n",
      "\n"
     ]
    }
   ],
   "source": [
    "print(soup.article.h2.span.prettify())"
   ]
  },
  {
   "cell_type": "markdown",
   "metadata": {},
   "source": [
    "To display only the text, use the `text` property:"
   ]
  },
  {
   "cell_type": "code",
   "execution_count": 9,
   "metadata": {},
   "outputs": [
    {
     "name": "stdout",
     "output_type": "stream",
     "text": [
      "Elevate marketing intelligence with Amazon Bedrock and LLMs for content creation, sentiment analysis, and campaign performance evaluation\n"
     ]
    }
   ],
   "source": [
    "print(soup.article.h2.span.text)"
   ]
  },
  {
   "cell_type": "markdown",
   "metadata": {},
   "source": [
    "Find the publish date of the article:"
   ]
  },
  {
   "cell_type": "code",
   "execution_count": 10,
   "metadata": {},
   "outputs": [
    {
     "name": "stdout",
     "output_type": "stream",
     "text": [
      "09 MAY 2025\n"
     ]
    }
   ],
   "source": [
    "print(soup.article.time.text)"
   ]
  },
  {
   "cell_type": "markdown",
   "metadata": {},
   "source": [
    "Next, extract the article summary:"
   ]
  },
  {
   "cell_type": "code",
   "execution_count": 11,
   "metadata": {},
   "outputs": [
    {
     "name": "stdout",
     "output_type": "stream",
     "text": [
      "In the media and entertainment industry, understanding and predicting the effectiveness of marketing campaigns is crucial for success. Marketing campaigns are the driving force behind successful businesses, playing a pivotal role in attracting new customers, retaining existing ones, and ultimately boosting revenue. However, launching a campaign isn’t enough; to maximize their impact and help achieve […]\n"
     ]
    }
   ],
   "source": [
    "print(soup.article.section.p.text)"
   ]
  },
  {
   "cell_type": "markdown",
   "metadata": {},
   "source": [
    "The author name is in the footer. A blog post can have multiple authors. However, for now, retrieve only the *first author*:"
   ]
  },
  {
   "cell_type": "code",
   "execution_count": 12,
   "metadata": {},
   "outputs": [
    {
     "name": "stdout",
     "output_type": "stream",
     "text": [
      "<span>\n",
      " by\n",
      " <span property=\"author\" typeof=\"Person\">\n",
      "  <span property=\"name\">\n",
      "   Namita Mathew\n",
      "  </span>\n",
      " </span>\n",
      " ,\n",
      " <span property=\"author\" typeof=\"Person\">\n",
      "  <span property=\"name\">\n",
      "   Mayank Agrawal\n",
      "  </span>\n",
      " </span>\n",
      " ,\n",
      " <span property=\"author\" typeof=\"Person\">\n",
      "  <span property=\"name\">\n",
      "   Arghya Banerjee\n",
      "  </span>\n",
      " </span>\n",
      " ,\n",
      " <span property=\"author\" typeof=\"Person\">\n",
      "  <span property=\"name\">\n",
      "   Dhara Vaishnav\n",
      "  </span>\n",
      " </span>\n",
      " , and\n",
      " <span property=\"author\" typeof=\"Person\">\n",
      "  <span property=\"name\">\n",
      "   Wesley Petry\n",
      "  </span>\n",
      " </span>\n",
      "</span>\n",
      "\n"
     ]
    }
   ],
   "source": [
    "print(soup.article.footer.span.prettify())"
   ]
  },
  {
   "cell_type": "markdown",
   "metadata": {},
   "source": [
    "The hyperlink to the full article text is the last piece of information that you must find:"
   ]
  },
  {
   "cell_type": "code",
   "execution_count": 13,
   "metadata": {},
   "outputs": [
    {
     "name": "stdout",
     "output_type": "stream",
     "text": [
      "https://aws.amazon.com/blogs/machine-learning/elevate-marketing-intelligence-with-amazon-bedrock-and-llms-for-content-creation-sentiment-analysis-and-campaign-performance-evaluation/\n"
     ]
    }
   ],
   "source": [
    "print(soup.article.div.a['href'])"
   ]
  },
  {
   "cell_type": "markdown",
   "metadata": {},
   "source": [
    "You have now identified all the relevant elements. You can find all the articles by using the `find_all()` function. You can then loop through the results and output information about the blog post, such as the title, author, and so on.\n",
    "\n",
    "For example, to find all the authors and then loop through them, the author, use `find_all()`:"
   ]
  },
  {
   "cell_type": "code",
   "execution_count": 14,
   "metadata": {},
   "outputs": [
    {
     "name": "stdout",
     "output_type": "stream",
     "text": [
      "==========================================\n",
      "Elevate marketing intelligence with Amazon Bedrock and LLMs for content creation, sentiment analysis, and campaign performance evaluation\n",
      "by Namita Mathew, Mayank Agrawal, Arghya Banerjee, Dhara Vaishnav, Wesley Petry, on 09 MAY 2025\n",
      "In the media and entertainment industry, understanding and predicting the effectiveness of marketing campaigns is crucial for success. Marketing campaigns are the driving force behind successful businesses, playing a pivotal role in attracting new customers, retaining existing ones, and ultimately boosting revenue. However, launching a campaign isn’t enough; to maximize their impact and help achieve […]\n",
      "https://aws.amazon.com/blogs/machine-learning/elevate-marketing-intelligence-with-amazon-bedrock-and-llms-for-content-creation-sentiment-analysis-and-campaign-performance-evaluation/\n",
      "==========================================\n",
      "How Deutsche Bahn redefines forecasting using Chronos models – Now available on Amazon Bedrock Marketplace\n",
      "by Kilian Zimmerer, Daniel Ringler, Michael Bohlke-Schneider, Florian Saupe, John Liu, Pedro Eduardo Mercado Lopez, Simeon Brueggenjuergen, on 07 MAY 2025\n",
      "Whereas traditional forecasting methods typically rely on statistical modeling, Chronos treats time series data as a language to be modeled and uses a pre-trained FM to generate forecasts — similar to how large language models (LLMs) generate texts. Chronos helps you achieve accurate predictions faster, significantly reducing development time compared to traditional methods. In this post, we share how Deutsche Bahn is redefining forecasting using Chronos models, and provide an example use case to demonstrate how you can get started using Chronos.\n",
      "https://aws.amazon.com/blogs/machine-learning/how-deutsche-bahn-redefines-forecasting-using-chronos-models-now-available-on-amazon-bedrock-marketplace/\n",
      "==========================================\n",
      "Use custom metrics to evaluate your generative AI application with Amazon Bedrock\n",
      "by Shreyas Subramanian, Adewale Akinfaderin, Ishan Singh, Jesse Manders, on 06 MAY 2025\n",
      "Now with Amazon Bedrock, you can develop custom evaluation metrics for both model and RAG evaluations. This capability extends the LLM-as-a-judge framework that drives Amazon Bedrock Evaluations. In this post, we demonstrate how to use custom metrics in Amazon Bedrock Evaluations to measure and improve the performance of your generative AI applications according to your specific business requirements and evaluation criteria.\n",
      "https://aws.amazon.com/blogs/machine-learning/use-custom-metrics-to-evaluate-your-generative-ai-application-with-amazon-bedrock/\n",
      "==========================================\n",
      "Build a gen AI–powered financial assistant with Amazon Bedrock multi-agent collaboration\n",
      "by Suheel Farooq, Aswath Ram A Srinivasan, Girish Krishna Tokachichu, Qingwei Li, on 02 MAY 2025\n",
      "This post explores a financial assistant system that specializes in three key tasks: portfolio creation, company research, and communication. This post aims to illustrate the use of multiple specialized agents within the Amazon Bedrock multi-agent collaboration capability, with particular emphasis on their application in financial analysis.\n",
      "https://aws.amazon.com/blogs/machine-learning/build-a-gen-ai-powered-financial-assistant-with-amazon-bedrock-multi-agent-collaboration/\n",
      "==========================================\n",
      "WordFinder app: Harnessing generative AI on AWS for aphasia communication\n",
      "by Kori Ramijoo, Scott Harding, Sonia Brownsett, David Copland, Kurt Sterzl, Mark Promnitz, on 02 MAY 2025\n",
      "In this post, we showcase how Dr. Kori Ramajoo, Dr. Sonia Brownsett, Prof. David Copland, from QARC, and Scott Harding, a person living with aphasia, used AWS services to develop WordFinder, a mobile, cloud-based solution that helps individuals with aphasia increase their independence through the use of AWS generative AI technology.\n",
      "https://aws.amazon.com/blogs/machine-learning/wordfinder-app-harnessing-generative-ai-on-aws-for-aphasia-communication/\n",
      "==========================================\n",
      "Get faster and actionable AWS Trusted Advisor insights to make data-driven decisions using Amazon Q Business\n",
      "by Satish Bhonsle, on 02 MAY 2025\n",
      "In this post, we show how to create an application using Amazon Q Business with Jira integration that used a dataset containing a Trusted Advisor detailed report. This solution demonstrates how to use new generative AI services like Amazon Q Business to get data insights faster and make them actionable.\n",
      "https://aws.amazon.com/blogs/machine-learning/get-faster-and-actionable-aws-trusted-advisor-insights-to-make-data-driven-decisions-using-amazon-q-business/\n",
      "==========================================\n",
      "Best practices for Meta Llama 3.2 multimodal fine-tuning on Amazon Bedrock\n",
      "by Yanyan Zhang, Marcelo Aberle, Fang Liu, Ishan Singh, Jiayu Li, Karel Mundnich, Sovik Nath, Jennifer Zhu, on 01 MAY 2025\n",
      "In this post, we share comprehensive best practices and scientific insights for fine-tuning Meta Llama 3.2 multimodal models on Amazon Bedrock. By following these guidelines, you can fine-tune smaller, more cost-effective models to achieve performance that rivals or even surpasses much larger models—potentially reducing both inference costs and latency, while maintaining high accuracy for your specific use case.\n",
      "https://aws.amazon.com/blogs/machine-learning/best-practices-for-meta-llama-3-2-multimodal-fine-tuning-on-amazon-bedrock/\n",
      "==========================================\n",
      "Extend large language models powered by Amazon SageMaker AI using Model Context Protocol\n",
      "by Mona Mona, Davide Gallitelli, Giuseppe Zappia, Surya Kari, on 01 MAY 2025\n",
      "The MCP proposed by Anthropic offers a standardized way of connecting FMs to data sources, and now you can use this capability with SageMaker AI. In this post, we presented an example of combining the power of SageMaker AI and MCP to build an application that offers a new perspective on loan underwriting through specialized roles and automated workflows.\n",
      "https://aws.amazon.com/blogs/machine-learning/extend-large-language-models-powered-by-amazon-sagemaker-ai-using-model-context-protocol/\n",
      "==========================================\n",
      "Automate document translation and standardization with Amazon Bedrock and Amazon Translate\n",
      "by Nadhya Polanco, Steve Bell, on 01 MAY 2025\n",
      "In this post, we show how you can automate language localization through translating documents using Amazon Web Services (AWS). The solution combines Amazon Bedrock and AWS Serverless technologies, a suite of fully managed event-driven services for running code, managing data, and integrating applications—all without managing servers.\n",
      "https://aws.amazon.com/blogs/machine-learning/automate-document-translation-and-standardization-with-amazon-bedrock-and-amazon-translate/\n",
      "==========================================\n",
      "Autonomous mortgage processing using Amazon Bedrock Data Automation and Amazon Bedrock Agents\n",
      "by Wrick Talukdar, Jessie-Lee Fry, Farshad Bidanjiri, Jady Liu, Keith Mascarenhas, Raj Jayaraman, on 01 MAY 2025\n",
      "In this post, we introduce agentic automatic mortgage approval, a next-generation sample solution that uses autonomous AI agents powered by Amazon Bedrock Agents and Amazon Bedrock Data Automation. These agents orchestrate the entire mortgage approval process—intelligently verifying documents, assessing risk, and making data-driven decisions with minimal human intervention.\n",
      "https://aws.amazon.com/blogs/machine-learning/autonomous-mortgage-processing-using-amazon-bedrock-data-automation-and-amazon-bedrock-agents/\n"
     ]
    }
   ],
   "source": [
    "for article in soup.find_all('article'):\n",
    "    print('==========================================')\n",
    "    print(article.h2.span.text)\n",
    "    authors = article.footer.find_all('span', {\"property\":\"author\"})\n",
    "    print('by', end=' ')\n",
    "    for author in authors:\n",
    "        if author.span != None:\n",
    "            print(author.span.text, end=', ')\n",
    "    print(f'on {article.time.text}')\n",
    "    print(article.section.p.text)\n",
    "    print(article.div.a['href'])\n",
    "    "
   ]
  },
  {
   "cell_type": "markdown",
   "metadata": {},
   "source": [
    "After you figure out the data format, you can add the results to an array:"
   ]
  },
  {
   "cell_type": "code",
   "execution_count": 15,
   "metadata": {},
   "outputs": [],
   "source": [
    "blog_posts = []\n",
    "for article in soup.find_all('article'):\n",
    "    authors = article.footer.find_all('span', {\"property\":\"author\"})\n",
    "    author_text = []\n",
    "    for author in authors:\n",
    "        if author.span != None:\n",
    "            author_text.append(author.span.text)\n",
    "    blog_posts.append([article.h2.span.text, ', '.join(author_text), article.time.text, article.section.p.text, article.div.a['href'] ])\n",
    "    "
   ]
  },
  {
   "cell_type": "markdown",
   "metadata": {},
   "source": [
    "Next, load the array into a pandas dataframe:"
   ]
  },
  {
   "cell_type": "code",
   "execution_count": 16,
   "metadata": {},
   "outputs": [],
   "source": [
    "import pandas as pd\n",
    "import time"
   ]
  },
  {
   "cell_type": "code",
   "execution_count": 17,
   "metadata": {},
   "outputs": [],
   "source": [
    "df = pd.DataFrame(blog_posts, columns=['title','authors','published','summary','link'])"
   ]
  },
  {
   "cell_type": "markdown",
   "metadata": {},
   "source": [
    "You must convert the **published** column to a `datetime` value."
   ]
  },
  {
   "cell_type": "code",
   "execution_count": 18,
   "metadata": {},
   "outputs": [],
   "source": [
    "df['published'] = pd.to_datetime(df['published'], format='%d %b %Y')"
   ]
  },
  {
   "cell_type": "markdown",
   "metadata": {},
   "source": [
    "Adjust the column width for pandas, and display the first five rows of the dataframe:"
   ]
  },
  {
   "cell_type": "code",
   "execution_count": 19,
   "metadata": {},
   "outputs": [
    {
     "data": {
      "text/html": [
       "<div>\n",
       "<style scoped>\n",
       "    .dataframe tbody tr th:only-of-type {\n",
       "        vertical-align: middle;\n",
       "    }\n",
       "\n",
       "    .dataframe tbody tr th {\n",
       "        vertical-align: top;\n",
       "    }\n",
       "\n",
       "    .dataframe thead th {\n",
       "        text-align: right;\n",
       "    }\n",
       "</style>\n",
       "<table border=\"1\" class=\"dataframe\">\n",
       "  <thead>\n",
       "    <tr style=\"text-align: right;\">\n",
       "      <th></th>\n",
       "      <th>title</th>\n",
       "      <th>authors</th>\n",
       "      <th>published</th>\n",
       "      <th>summary</th>\n",
       "      <th>link</th>\n",
       "    </tr>\n",
       "  </thead>\n",
       "  <tbody>\n",
       "    <tr>\n",
       "      <th>0</th>\n",
       "      <td>Elevate marketing intelligence with Amazon Bedrock and LLMs for content creation, sentiment analysis, and campaign performance evaluation</td>\n",
       "      <td>Namita Mathew, Mayank Agrawal, Arghya Banerjee, Dhara Vaishnav, Wesley Petry</td>\n",
       "      <td>2025-05-09</td>\n",
       "      <td>In the media and entertainment industry, understanding and predicting the effectiveness of marketing campaigns is crucial for success. Marketing campaigns are the driving force behind successful businesses, playing a pivotal role in attracting new customers, retaining existing ones, and ultimately boosting revenue. However, launching a campaign isn’t enough; to maximize their impact and help achieve […]</td>\n",
       "      <td>https://aws.amazon.com/blogs/machine-learning/elevate-marketing-intelligence-with-amazon-bedrock-and-llms-for-content-creation-sentiment-analysis-and-campaign-performance-evaluation/</td>\n",
       "    </tr>\n",
       "    <tr>\n",
       "      <th>1</th>\n",
       "      <td>How Deutsche Bahn redefines forecasting using Chronos models – Now available on Amazon Bedrock Marketplace</td>\n",
       "      <td>Kilian Zimmerer, Daniel Ringler, Michael Bohlke-Schneider, Florian Saupe, John Liu, Pedro Eduardo Mercado Lopez, Simeon Brueggenjuergen</td>\n",
       "      <td>2025-05-07</td>\n",
       "      <td>Whereas traditional forecasting methods typically rely on statistical modeling, Chronos treats time series data as a language to be modeled and uses a pre-trained FM to generate forecasts — similar to how large language models (LLMs) generate texts. Chronos helps you achieve accurate predictions faster, significantly reducing development time compared to traditional methods. In this post, we share how Deutsche Bahn is redefining forecasting using Chronos models, and provide an example use case to demonstrate how you can get started using Chronos.</td>\n",
       "      <td>https://aws.amazon.com/blogs/machine-learning/how-deutsche-bahn-redefines-forecasting-using-chronos-models-now-available-on-amazon-bedrock-marketplace/</td>\n",
       "    </tr>\n",
       "    <tr>\n",
       "      <th>2</th>\n",
       "      <td>Use custom metrics to evaluate your generative AI application with Amazon Bedrock</td>\n",
       "      <td>Shreyas Subramanian, Adewale Akinfaderin, Ishan Singh, Jesse Manders</td>\n",
       "      <td>2025-05-06</td>\n",
       "      <td>Now with Amazon Bedrock, you can develop custom evaluation metrics for both model and RAG evaluations. This capability extends the LLM-as-a-judge framework that drives Amazon Bedrock Evaluations. In this post, we demonstrate how to use custom metrics in Amazon Bedrock Evaluations to measure and improve the performance of your generative AI applications according to your specific business requirements and evaluation criteria.</td>\n",
       "      <td>https://aws.amazon.com/blogs/machine-learning/use-custom-metrics-to-evaluate-your-generative-ai-application-with-amazon-bedrock/</td>\n",
       "    </tr>\n",
       "    <tr>\n",
       "      <th>3</th>\n",
       "      <td>Build a gen AI–powered financial assistant with Amazon Bedrock multi-agent collaboration</td>\n",
       "      <td>Suheel Farooq, Aswath Ram A Srinivasan, Girish Krishna Tokachichu, Qingwei Li</td>\n",
       "      <td>2025-05-02</td>\n",
       "      <td>This post explores a financial assistant system that specializes in three key tasks: portfolio creation, company research, and communication. This post aims to illustrate the use of multiple specialized agents within the Amazon Bedrock multi-agent collaboration capability, with particular emphasis on their application in financial analysis.</td>\n",
       "      <td>https://aws.amazon.com/blogs/machine-learning/build-a-gen-ai-powered-financial-assistant-with-amazon-bedrock-multi-agent-collaboration/</td>\n",
       "    </tr>\n",
       "    <tr>\n",
       "      <th>4</th>\n",
       "      <td>WordFinder app: Harnessing generative AI on AWS for aphasia communication</td>\n",
       "      <td>Kori Ramijoo, Scott Harding, Sonia Brownsett, David Copland, Kurt Sterzl, Mark Promnitz</td>\n",
       "      <td>2025-05-02</td>\n",
       "      <td>In this post, we showcase how Dr. Kori Ramajoo, Dr. Sonia Brownsett, Prof. David Copland, from QARC, and Scott Harding, a person living with aphasia, used AWS services to develop WordFinder, a mobile, cloud-based solution that helps individuals with aphasia increase their independence through the use of AWS generative AI technology.</td>\n",
       "      <td>https://aws.amazon.com/blogs/machine-learning/wordfinder-app-harnessing-generative-ai-on-aws-for-aphasia-communication/</td>\n",
       "    </tr>\n",
       "  </tbody>\n",
       "</table>\n",
       "</div>"
      ],
      "text/plain": [
       "                                                                                                                                       title  \\\n",
       "0  Elevate marketing intelligence with Amazon Bedrock and LLMs for content creation, sentiment analysis, and campaign performance evaluation   \n",
       "1                                 How Deutsche Bahn redefines forecasting using Chronos models – Now available on Amazon Bedrock Marketplace   \n",
       "2                                                          Use custom metrics to evaluate your generative AI application with Amazon Bedrock   \n",
       "3                                                   Build a gen AI–powered financial assistant with Amazon Bedrock multi-agent collaboration   \n",
       "4                                                                  WordFinder app: Harnessing generative AI on AWS for aphasia communication   \n",
       "\n",
       "                                                                                                                                   authors  \\\n",
       "0                                                             Namita Mathew, Mayank Agrawal, Arghya Banerjee, Dhara Vaishnav, Wesley Petry   \n",
       "1  Kilian Zimmerer, Daniel Ringler, Michael Bohlke-Schneider, Florian Saupe, John Liu, Pedro Eduardo Mercado Lopez, Simeon Brueggenjuergen   \n",
       "2                                                                     Shreyas Subramanian, Adewale Akinfaderin, Ishan Singh, Jesse Manders   \n",
       "3                                                            Suheel Farooq, Aswath Ram A Srinivasan, Girish Krishna Tokachichu, Qingwei Li   \n",
       "4                                                  Kori Ramijoo, Scott Harding, Sonia Brownsett, David Copland, Kurt Sterzl, Mark Promnitz   \n",
       "\n",
       "   published  \\\n",
       "0 2025-05-09   \n",
       "1 2025-05-07   \n",
       "2 2025-05-06   \n",
       "3 2025-05-02   \n",
       "4 2025-05-02   \n",
       "\n",
       "                                                                                                                                                                                                                                                                                                                                                                                                                                                                                                                                                                    summary  \\\n",
       "0                                                                                                                                                    In the media and entertainment industry, understanding and predicting the effectiveness of marketing campaigns is crucial for success. Marketing campaigns are the driving force behind successful businesses, playing a pivotal role in attracting new customers, retaining existing ones, and ultimately boosting revenue. However, launching a campaign isn’t enough; to maximize their impact and help achieve […]   \n",
       "1  Whereas traditional forecasting methods typically rely on statistical modeling, Chronos treats time series data as a language to be modeled and uses a pre-trained FM to generate forecasts — similar to how large language models (LLMs) generate texts. Chronos helps you achieve accurate predictions faster, significantly reducing development time compared to traditional methods. In this post, we share how Deutsche Bahn is redefining forecasting using Chronos models, and provide an example use case to demonstrate how you can get started using Chronos.   \n",
       "2                                                                                                                              Now with Amazon Bedrock, you can develop custom evaluation metrics for both model and RAG evaluations. This capability extends the LLM-as-a-judge framework that drives Amazon Bedrock Evaluations. In this post, we demonstrate how to use custom metrics in Amazon Bedrock Evaluations to measure and improve the performance of your generative AI applications according to your specific business requirements and evaluation criteria.   \n",
       "3                                                                                                                                                                                                                    This post explores a financial assistant system that specializes in three key tasks: portfolio creation, company research, and communication. This post aims to illustrate the use of multiple specialized agents within the Amazon Bedrock multi-agent collaboration capability, with particular emphasis on their application in financial analysis.   \n",
       "4                                                                                                                                                                                                                            In this post, we showcase how Dr. Kori Ramajoo, Dr. Sonia Brownsett, Prof. David Copland, from QARC, and Scott Harding, a person living with aphasia, used AWS services to develop WordFinder, a mobile, cloud-based solution that helps individuals with aphasia increase their independence through the use of AWS generative AI technology.   \n",
       "\n",
       "                                                                                                                                                                                     link  \n",
       "0  https://aws.amazon.com/blogs/machine-learning/elevate-marketing-intelligence-with-amazon-bedrock-and-llms-for-content-creation-sentiment-analysis-and-campaign-performance-evaluation/  \n",
       "1                                 https://aws.amazon.com/blogs/machine-learning/how-deutsche-bahn-redefines-forecasting-using-chronos-models-now-available-on-amazon-bedrock-marketplace/  \n",
       "2                                                        https://aws.amazon.com/blogs/machine-learning/use-custom-metrics-to-evaluate-your-generative-ai-application-with-amazon-bedrock/  \n",
       "3                                                 https://aws.amazon.com/blogs/machine-learning/build-a-gen-ai-powered-financial-assistant-with-amazon-bedrock-multi-agent-collaboration/  \n",
       "4                                                                 https://aws.amazon.com/blogs/machine-learning/wordfinder-app-harnessing-generative-ai-on-aws-for-aphasia-communication/  "
      ]
     },
     "execution_count": 19,
     "metadata": {},
     "output_type": "execute_result"
    }
   ],
   "source": [
    "pd.options.display.max_rows\n",
    "pd.set_option('display.max_colwidth', None)\n",
    "df.head()"
   ]
  },
  {
   "cell_type": "markdown",
   "metadata": {},
   "source": [
    "Now that the data is in a pandas dataframe, you can use this data in downstream NLP tasks. You will come back to this data in Module 5."
   ]
  },
  {
   "cell_type": "markdown",
   "metadata": {},
   "source": [
    "## 2. Extracting text from images\n",
    "([Go to top](#Lab-3.1:-Extracting-text-from-the-web))\n",
    "\n",
    "In this section, you will extract the text from an image by using Amazon Textract.\n",
    "\n",
    "For this exercise, you will use the following simple image. This file was loaded into Amazon Simple Storage Service (Amazon S3) when you started the lab.\n",
    "\n",
    "![Image of a simple document](../s3/simple-document-image.jpg)"
   ]
  },
  {
   "cell_type": "markdown",
   "metadata": {},
   "source": [
    "Start by importing the library for the AWS SDK for Python (Boto3)."
   ]
  },
  {
   "cell_type": "code",
   "execution_count": 20,
   "metadata": {},
   "outputs": [],
   "source": [
    "import boto3"
   ]
  },
  {
   "cell_type": "markdown",
   "metadata": {},
   "source": [
    "Setup the variables for the bucket and document name."
   ]
  },
  {
   "cell_type": "code",
   "execution_count": 21,
   "metadata": {},
   "outputs": [],
   "source": [
    "# Document\n",
    "s3BucketName = \"c163835a4206196l10271439t1w761127724819-labbucket-jsdq2weqwidb\"\n",
    "documentName = \"lab31/simple-document-image.jpg\""
   ]
  },
  {
   "cell_type": "markdown",
   "metadata": {},
   "source": [
    "Extract text from the image by using Amazon Textract to call an application programming interface (API)."
   ]
  },
  {
   "cell_type": "code",
   "execution_count": 22,
   "metadata": {},
   "outputs": [
    {
     "name": "stdout",
     "output_type": "stream",
     "text": [
      "{'DocumentMetadata': {'Pages': 1}, 'Blocks': [{'BlockType': 'PAGE', 'Geometry': {'BoundingBox': {'Width': 1.0, 'Height': 1.0, 'Left': 0.0, 'Top': 0.0}, 'Polygon': [{'X': 0.0, 'Y': 0.0}, {'X': 1.0, 'Y': 0.0}, {'X': 1.0, 'Y': 1.0}, {'X': 0.0, 'Y': 1.0}]}, 'Id': '17c61284-2888-48c2-a0d9-8e9fb6324523', 'Relationships': [{'Type': 'CHILD', 'Ids': ['9ce87fcc-a086-4743-a514-31d4bdb94727', '0c83d3b2-6746-4e54-84d3-2a90717be6d4', '3e3a2d66-6914-4a2c-b1fa-b8844c622971', '59c9f4e4-350a-4353-a6d2-980a59cab316']}]}, {'BlockType': 'LINE', 'Confidence': 99.52398681640625, 'Text': 'Amazon.com, Inc. is located in Seattle, WA', 'Geometry': {'BoundingBox': {'Width': 0.512660026550293, 'Height': 0.06824082136154175, 'Left': 0.06333211064338684, 'Top': 0.1989629715681076}, 'Polygon': [{'X': 0.06337157636880875, 'Y': 0.20793944597244263}, {'X': 0.5759921669960022, 'Y': 0.1989629715681076}, {'X': 0.5759671330451965, 'Y': 0.2590251564979553}, {'X': 0.06333211064338684, 'Y': 0.26720380783081055}]}, 'Id': '9ce87fcc-a086-4743-a514-31d4bdb94727', 'Relationships': [{'Type': 'CHILD', 'Ids': ['6abe8360-c907-412a-9498-3542a5cfeec8', '5af33f6c-c5b5-49c8-b629-902dc436e8f7', '58de83f6-181b-4290-8992-14a6fa1846b9', '79b9d623-dea5-41cd-abbc-72d230d08780', 'dc063ac2-e164-40a9-81e7-8397b24604a5', '17f3c0f7-8f92-43f1-93ee-fe1b55a9c946', '0f257c61-1ced-4afc-979f-e800fe7fb23a']}]}, {'BlockType': 'LINE', 'Confidence': 99.71342468261719, 'Text': 'It was founded July 5th, 1994 by Jeff Bezos', 'Geometry': {'BoundingBox': {'Width': 0.5065407752990723, 'Height': 0.06899020075798035, 'Left': 0.06820254772901535, 'Top': 0.36328956484794617}, 'Polygon': [{'X': 0.06824386864900589, 'Y': 0.3700016438961029}, {'X': 0.5747433304786682, 'Y': 0.36328956484794617}, {'X': 0.5747170448303223, 'Y': 0.42639604210853577}, {'X': 0.06820254772901535, 'Y': 0.4322797656059265}]}, 'Id': '0c83d3b2-6746-4e54-84d3-2a90717be6d4', 'Relationships': [{'Type': 'CHILD', 'Ids': ['306002ca-18f1-40f7-a3e9-0192d05cd5d6', '09b063a4-7e00-4ba3-a181-66e3068c5442', 'e8cf3f53-6573-4d5e-98d7-f1ae6283d449', '2e108831-cfe4-453e-9b5e-7a063737f303', '77fc8c9e-7bce-4510-b227-60d7c30dd854', '9e89c339-58d9-4863-acbe-a0399308a23d', '03aff2d4-9ea3-40ba-a7f4-eb356f90445c', 'a7d278fb-b5cf-4061-a388-57ce0ae81d6f', 'e2cc2c22-8b83-42bf-a74b-acd6340c8dc8']}]}, {'BlockType': 'LINE', 'Confidence': 99.8289794921875, 'Text': 'Amazon.com allows customers to buy everything from books to blenders', 'Geometry': {'BoundingBox': {'Width': 0.874902606010437, 'Height': 0.07273019105195999, 'Left': 0.07118041068315506, 'Top': 0.5195279121398926}, 'Polygon': [{'X': 0.07122328132390976, 'Y': 0.5275015234947205}, {'X': 0.9460830092430115, 'Y': 0.5195279121398926}, {'X': 0.9460673928260803, 'Y': 0.5857722163200378}, {'X': 0.07118041068315506, 'Y': 0.592258095741272}]}, 'Id': '3e3a2d66-6914-4a2c-b1fa-b8844c622971', 'Relationships': [{'Type': 'CHILD', 'Ids': ['69e31343-0293-471a-b229-0b1112b16ad1', 'f0dcff65-4a0f-49f2-85df-40a589ed555e', 'd70634fa-04a2-4ba5-b3af-c075ade7931e', '11f70782-7f27-4271-9a9d-4743d839403a', '21db9bcc-e51b-4c32-9a0f-76d18e536cc9', 'fe7ca2ff-c9e0-4101-bbcc-d89e20fa9663', '7a615e92-522e-4395-b465-a54a2e954c6e', 'a3acd855-5a6a-43bc-b684-15f0d38f043b', 'c7b6ea10-f7d2-4487-91f7-2c69bd65c621', '6127f3a3-6106-40de-9b78-f5da36457b5f']}]}, {'BlockType': 'LINE', 'Confidence': 99.86723327636719, 'Text': 'Seattle is north of Portland and south of Vancouver, BC.', 'Geometry': {'BoundingBox': {'Width': 0.6536551117897034, 'Height': 0.06737809628248215, 'Left': 0.07521340996026993, 'Top': 0.6793993711471558}, 'Polygon': [{'X': 0.07525570690631866, 'Y': 0.6826920509338379}, {'X': 0.7288684844970703, 'Y': 0.6793993711471558}, {'X': 0.7288462519645691, 'Y': 0.7445847392082214}, {'X': 0.07521340996026993, 'Y': 0.7467774748802185}]}, 'Id': '59c9f4e4-350a-4353-a6d2-980a59cab316', 'Relationships': [{'Type': 'CHILD', 'Ids': ['35196f26-6545-4c75-b493-8c7b8919de89', 'de0629af-49a3-4b7f-be53-9483d77e4934', '3fdfba3d-af6d-43aa-bd9a-b2aa637f2192', '4d7b5003-12e1-41c7-8014-39273078bfd3', '4533ef1b-193c-4be8-9082-7dd26285c86f', '7db32257-5fb9-472d-bc43-c03e511e1fb7', 'b32b5d13-1cbd-4f07-b373-3b1da4eb2f78', 'fa8b07e0-8ce1-458c-afb5-6cadd892dfcb', '9fce9822-cab6-455f-8aee-d7cab45202fa', '060e1cf5-fce3-4c3a-8629-5aeaa07a36ac']}]}, {'BlockType': 'WORD', 'Confidence': 98.75921630859375, 'Text': 'Amazon.com,', 'TextType': 'PRINTED', 'Geometry': {'BoundingBox': {'Width': 0.16102130711078644, 'Height': 0.056885600090026855, 'Left': 0.06333211064338684, 'Top': 0.2103181928396225}, 'Polygon': [{'X': 0.06336812674999237, 'Y': 0.21311530470848083}, {'X': 0.22435341775417328, 'Y': 0.2103181928396225}, {'X': 0.22432149946689606, 'Y': 0.2646353542804718}, {'X': 0.06333211064338684, 'Y': 0.26720380783081055}]}, 'Id': '6abe8360-c907-412a-9498-3542a5cfeec8'}, {'BlockType': 'WORD', 'Confidence': 99.81069946289062, 'Text': 'Inc.', 'TextType': 'PRINTED', 'Geometry': {'BoundingBox': {'Width': 0.04110877588391304, 'Height': 0.04814543575048447, 'Left': 0.2320590615272522, 'Top': 0.20788659155368805}, 'Polygon': [{'X': 0.23208674788475037, 'Y': 0.20860208570957184}, {'X': 0.27316784858703613, 'Y': 0.20788659155368805}, {'X': 0.273141086101532, 'Y': 0.2553674876689911}, {'X': 0.2320590615272522, 'Y': 0.2560320198535919}]}, 'Id': '5af33f6c-c5b5-49c8-b629-902dc436e8f7'}, {'BlockType': 'WORD', 'Confidence': 99.98382568359375, 'Text': 'is', 'TextType': 'PRINTED', 'Geometry': {'BoundingBox': {'Width': 0.01906769908964634, 'Height': 0.048862140625715256, 'Left': 0.2806340754032135, 'Top': 0.20624631643295288}, 'Polygon': [{'X': 0.2806612551212311, 'Y': 0.20657850801944733}, {'X': 0.2997017502784729, 'Y': 0.20624631643295288}, {'X': 0.29967501759529114, 'Y': 0.25480037927627563}, {'X': 0.2806340754032135, 'Y': 0.25510844588279724}]}, 'Id': '58de83f6-181b-4290-8992-14a6fa1846b9'}, {'BlockType': 'WORD', 'Confidence': 99.92877960205078, 'Text': 'located', 'TextType': 'PRINTED', 'Geometry': {'BoundingBox': {'Width': 0.08838324248790741, 'Height': 0.05260736495256424, 'Left': 0.30623677372932434, 'Top': 0.2021389752626419}, 'Polygon': [{'X': 0.306264728307724, 'Y': 0.2036861628293991}, {'X': 0.39462000131607056, 'Y': 0.2021389752626419}, {'X': 0.3945941925048828, 'Y': 0.25331687927246094}, {'X': 0.30623677372932434, 'Y': 0.25474634766578674}]}, 'Id': '79b9d623-dea5-41cd-abbc-72d230d08780'}, {'BlockType': 'WORD', 'Confidence': 99.95854949951172, 'Text': 'in', 'TextType': 'PRINTED', 'Geometry': {'BoundingBox': {'Width': 0.022093534469604492, 'Height': 0.048856742680072784, 'Left': 0.4019136130809784, 'Top': 0.20398516952991486}, 'Polygon': [{'X': 0.401937872171402, 'Y': 0.20437027513980865}, {'X': 0.4240071475505829, 'Y': 0.20398516952991486}, {'X': 0.4239833652973175, 'Y': 0.25248464941978455}, {'X': 0.4019136130809784, 'Y': 0.25284191966056824}]}, 'Id': 'dc063ac2-e164-40a9-81e7-8397b24604a5'}, {'BlockType': 'WORD', 'Confidence': 98.29489135742188, 'Text': 'Seattle,', 'TextType': 'PRINTED', 'Geometry': {'BoundingBox': {'Width': 0.09120583534240723, 'Height': 0.06014826148748398, 'Left': 0.4316492974758148, 'Top': 0.20069876313209534}, 'Polygon': [{'X': 0.43167775869369507, 'Y': 0.20229345560073853}, {'X': 0.5228551030158997, 'Y': 0.20069876313209534}, {'X': 0.5228291749954224, 'Y': 0.259391188621521}, {'X': 0.4316492974758148, 'Y': 0.2608470320701599}]}, 'Id': '17f3c0f7-8f92-43f1-93ee-fe1b55a9c946'}, {'BlockType': 'WORD', 'Confidence': 99.93192291259766, 'Text': 'WA', 'TextType': 'PRINTED', 'Geometry': {'BoundingBox': {'Width': 0.04656815156340599, 'Height': 0.049564018845558167, 'Left': 0.5294228792190552, 'Top': 0.20171013474464417}, 'Polygon': [{'X': 0.5294442772865295, 'Y': 0.2025218904018402}, {'X': 0.5759910345077515, 'Y': 0.20171013474464417}, {'X': 0.5759707093238831, 'Y': 0.2505212724208832}, {'X': 0.5294228792190552, 'Y': 0.25127413868904114}]}, 'Id': '0f257c61-1ced-4afc-979f-e800fe7fb23a'}, {'BlockType': 'WORD', 'Confidence': 99.64521026611328, 'Text': 'It', 'TextType': 'PRINTED', 'Geometry': {'BoundingBox': {'Width': 0.018097832798957825, 'Height': 0.04743773117661476, 'Left': 0.06821013987064362, 'Top': 0.3733948767185211}, 'Polygon': [{'X': 0.06824146211147308, 'Y': 0.3736325800418854}, {'X': 0.08630797266960144, 'Y': 0.3733948767185211}, {'X': 0.0862770602107048, 'Y': 0.42061731219291687}, {'X': 0.06821013987064362, 'Y': 0.4208326041698456}]}, 'Id': '306002ca-18f1-40f7-a3e9-0192d05cd5d6'}, {'BlockType': 'WORD', 'Confidence': 99.9617919921875, 'Text': 'was', 'TextType': 'PRINTED', 'Geometry': {'BoundingBox': {'Width': 0.045989397913217545, 'Height': 0.03711635619401932, 'Left': 0.09068310260772705, 'Top': 0.38302451372146606}, 'Polygon': [{'X': 0.09070693701505661, 'Y': 0.3836168646812439}, {'X': 0.1366724967956543, 'Y': 0.38302451372146606}, {'X': 0.13664944469928741, 'Y': 0.41959258913993835}, {'X': 0.09068310260772705, 'Y': 0.4201408624649048}]}, 'Id': '09b063a4-7e00-4ba3-a181-66e3068c5442'}, {'BlockType': 'WORD', 'Confidence': 99.98601531982422, 'Text': 'founded', 'TextType': 'PRINTED', 'Geometry': {'BoundingBox': {'Width': 0.09943395107984543, 'Height': 0.05201011151075363, 'Left': 0.14200904965400696, 'Top': 0.36770641803741455}, 'Polygon': [{'X': 0.14204086363315582, 'Y': 0.3690236806869507}, {'X': 0.2414429932832718, 'Y': 0.36770641803741455}, {'X': 0.24141356348991394, 'Y': 0.4185313284397125}, {'X': 0.14200904965400696, 'Y': 0.4197165369987488}]}, 'Id': 'e8cf3f53-6573-4d5e-98d7-f1ae6283d449'}, {'BlockType': 'WORD', 'Confidence': 99.85586547851562, 'Text': 'July', 'TextType': 'PRINTED', 'Geometry': {'BoundingBox': {'Width': 0.0462392121553421, 'Height': 0.06049501150846481, 'Left': 0.2477417141199112, 'Top': 0.3684053122997284}, 'Polygon': [{'X': 0.24777621030807495, 'Y': 0.3690159320831299}, {'X': 0.2939809262752533, 'Y': 0.3684053122997284}, {'X': 0.2939477264881134, 'Y': 0.42836204171180725}, {'X': 0.2477417141199112, 'Y': 0.4289003312587738}]}, 'Id': '2e108831-cfe4-453e-9b5e-7a063737f303'}, {'BlockType': 'WORD', 'Confidence': 99.24161529541016, 'Text': '5th,', 'TextType': 'PRINTED', 'Geometry': {'BoundingBox': {'Width': 0.04602835327386856, 'Height': 0.058175209909677505, 'Left': 0.30023717880249023, 'Top': 0.36776748299598694}, 'Polygon': [{'X': 0.30026885867118835, 'Y': 0.3683752715587616}, {'X': 0.3462655246257782, 'Y': 0.36776748299598694}, {'X': 0.34623509645462036, 'Y': 0.42540398240089417}, {'X': 0.30023717880249023, 'Y': 0.42594268918037415}]}, 'Id': '77fc8c9e-7bce-4510-b227-60d7c30dd854'}, {'BlockType': 'WORD', 'Confidence': 99.87621307373047, 'Text': '1994', 'TextType': 'PRINTED', 'Geometry': {'BoundingBox': {'Width': 0.05910998210310936, 'Height': 0.04862922802567482, 'Left': 0.3542810380458832, 'Top': 0.3690697252750397}, 'Polygon': [{'X': 0.3543061316013336, 'Y': 0.3698471188545227}, {'X': 0.41339102387428284, 'Y': 0.3690697252750397}, {'X': 0.41336730122566223, 'Y': 0.41699525713920593}, {'X': 0.3542810380458832, 'Y': 0.4176989495754242}]}, 'Id': '9e89c339-58d9-4863-acbe-a0399308a23d'}, {'BlockType': 'WORD', 'Confidence': 99.98426055908203, 'Text': 'by', 'TextType': 'PRINTED', 'Geometry': {'BoundingBox': {'Width': 0.029476305469870567, 'Height': 0.060791850090026855, 'Left': 0.42038002610206604, 'Top': 0.3673969805240631}, 'Polygon': [{'X': 0.4204097390174866, 'Y': 0.36778533458709717}, {'X': 0.44985631108283997, 'Y': 0.3673969805240631}, {'X': 0.4498274624347687, 'Y': 0.427846759557724}, {'X': 0.42038002610206604, 'Y': 0.42818883061408997}]}, 'Id': '03aff2d4-9ea3-40ba-a7f4-eb356f90445c'}, {'BlockType': 'WORD', 'Confidence': 99.313720703125, 'Text': 'Jeff', 'TextType': 'PRINTED', 'Geometry': {'BoundingBox': {'Width': 0.044113848358392715, 'Height': 0.05085453391075134, 'Left': 0.45489969849586487, 'Top': 0.3667324185371399}, 'Polygon': [{'X': 0.4549235999584198, 'Y': 0.3673139214515686}, {'X': 0.4990135431289673, 'Y': 0.3667324185371399}, {'X': 0.4989907145500183, 'Y': 0.4170631170272827}, {'X': 0.45489969849586487, 'Y': 0.41758695244789124}]}, 'Id': 'a7d278fb-b5cf-4061-a388-57ce0ae81d6f'}, {'BlockType': 'WORD', 'Confidence': 99.55608367919922, 'Text': 'Bezos', 'TextType': 'PRINTED', 'Geometry': {'BoundingBox': {'Width': 0.06957272440195084, 'Height': 0.04926365986466408, 'Left': 0.5051683783531189, 'Top': 0.3686056137084961}, 'Polygon': [{'X': 0.5051901936531067, 'Y': 0.3695176839828491}, {'X': 0.5747411251068115, 'Y': 0.3686056137084961}, {'X': 0.5747209191322327, 'Y': 0.417044460773468}, {'X': 0.5051683783531189, 'Y': 0.4178692698478699}]}, 'Id': 'e2cc2c22-8b83-42bf-a74b-acd6340c8dc8'}, {'BlockType': 'WORD', 'Confidence': 99.82669830322266, 'Text': 'Amazon.com', 'TextType': 'PRINTED', 'Geometry': {'BoundingBox': {'Width': 0.149097740650177, 'Height': 0.04859616607427597, 'Left': 0.0711912289261818, 'Top': 0.5273236036300659}, 'Polygon': [{'X': 0.07122250646352768, 'Y': 0.5286776423454285}, {'X': 0.2202889621257782, 'Y': 0.5273236036300659}, {'X': 0.22026100754737854, 'Y': 0.5747507214546204}, {'X': 0.0711912289261818, 'Y': 0.5759198069572449}]}, 'Id': '69e31343-0293-471a-b229-0b1112b16ad1'}, {'BlockType': 'WORD', 'Confidence': 99.95938873291016, 'Text': 'allows', 'TextType': 'PRINTED', 'Geometry': {'BoundingBox': {'Width': 0.07448811084032059, 'Height': 0.05002325400710106, 'Left': 0.22922861576080322, 'Top': 0.5253825187683105}, 'Polygon': [{'X': 0.2292574793100357, 'Y': 0.5260611772537231}, {'X': 0.3037167191505432, 'Y': 0.5253825187683105}, {'X': 0.3036895990371704, 'Y': 0.574823260307312}, {'X': 0.22922861576080322, 'Y': 0.5754057765007019}]}, 'Id': 'f0dcff65-4a0f-49f2-85df-40a589ed555e'}, {'BlockType': 'WORD', 'Confidence': 99.75581359863281, 'Text': 'customers', 'TextType': 'PRINTED', 'Geometry': {'BoundingBox': {'Width': 0.12269041687250137, 'Height': 0.04624553397297859, 'Left': 0.3106694221496582, 'Top': 0.5303207635879517}, 'Polygon': [{'X': 0.3106940686702728, 'Y': 0.5314192175865173}, {'X': 0.43335986137390137, 'Y': 0.5303207635879517}, {'X': 0.43333786725997925, 'Y': 0.5756123065948486}, {'X': 0.3106694221496582, 'Y': 0.5765662789344788}]}, 'Id': 'd70634fa-04a2-4ba5-b3af-c075ade7931e'}, {'BlockType': 'WORD', 'Confidence': 99.98436737060547, 'Text': 'to', 'TextType': 'PRINTED', 'Geometry': {'BoundingBox': {'Width': 0.025466978549957275, 'Height': 0.044067297130823135, 'Left': 0.43945664167404175, 'Top': 0.5326559543609619}, 'Polygon': [{'X': 0.439477801322937, 'Y': 0.5328820943832397}, {'X': 0.464923620223999, 'Y': 0.5326559543609619}, {'X': 0.46490299701690674, 'Y': 0.5765261054039001}, {'X': 0.43945664167404175, 'Y': 0.5767232775688171}]}, 'Id': '11f70782-7f27-4271-9a9d-4743d839403a'}, {'BlockType': 'WORD', 'Confidence': 99.92306518554688, 'Text': 'buy', 'TextType': 'PRINTED', 'Geometry': {'BoundingBox': {'Width': 0.043932098895311356, 'Height': 0.059804439544677734, 'Left': 0.4727984070777893, 'Top': 0.5278019905090332}, 'Polygon': [{'X': 0.47282612323760986, 'Y': 0.528197169303894}, {'X': 0.516730546951294, 'Y': 0.5278019905090332}, {'X': 0.5167040824890137, 'Y': 0.5872790217399597}, {'X': 0.4727984070777893, 'Y': 0.5876064300537109}]}, 'Id': '21db9bcc-e51b-4c32-9a0f-76d18e536cc9'}, {'BlockType': 'WORD', 'Confidence': 99.28395080566406, 'Text': 'everything', 'TextType': 'PRINTED', 'Geometry': {'BoundingBox': {'Width': 0.1291286200284958, 'Height': 0.06210393086075783, 'Left': 0.5222740173339844, 'Top': 0.5268099904060364}, 'Polygon': [{'X': 0.5223010182380676, 'Y': 0.5279713273048401}, {'X': 0.6514026522636414, 'Y': 0.5268099904060364}, {'X': 0.6513794660568237, 'Y': 0.5879568457603455}, {'X': 0.5222740173339844, 'Y': 0.5889139175415039}]}, 'Id': 'fe7ca2ff-c9e0-4101-bbcc-d89e20fa9663'}, {'BlockType': 'WORD', 'Confidence': 99.99270629882812, 'Text': 'from', 'TextType': 'PRINTED', 'Geometry': {'BoundingBox': {'Width': 0.05975285917520523, 'Height': 0.050323937088251114, 'Left': 0.6569774150848389, 'Top': 0.526167094707489}, 'Polygon': [{'X': 0.6569961309432983, 'Y': 0.5267044901847839}, {'X': 0.7167302370071411, 'Y': 0.526167094707489}, {'X': 0.7167129516601562, 'Y': 0.5760304927825928}, {'X': 0.6569774150848389, 'Y': 0.5764909982681274}]}, 'Id': '7a615e92-522e-4395-b465-a54a2e954c6e'}, {'BlockType': 'WORD', 'Confidence': 99.97001647949219, 'Text': 'books', 'TextType': 'PRINTED', 'Geometry': {'BoundingBox': {'Width': 0.07328284531831741, 'Height': 0.05099944770336151, 'Left': 0.7246402502059937, 'Top': 0.5259048938751221}, 'Polygon': [{'X': 0.7246575355529785, 'Y': 0.5265631675720215}, {'X': 0.7979230880737305, 'Y': 0.5259048938751221}, {'X': 0.7979075312614441, 'Y': 0.5763413310050964}, {'X': 0.7246402502059937, 'Y': 0.5769043564796448}]}, 'Id': 'a3acd855-5a6a-43bc-b684-15f0d38f043b'}, {'BlockType': 'WORD', 'Confidence': 99.98748016357422, 'Text': 'to', 'TextType': 'PRINTED', 'Geometry': {'BoundingBox': {'Width': 0.02686275541782379, 'Height': 0.04514647275209427, 'Left': 0.8038339018821716, 'Top': 0.5316517353057861}, 'Polygon': [{'X': 0.80384761095047, 'Y': 0.5318887829780579}, {'X': 0.830696702003479, 'Y': 0.5316517353057861}, {'X': 0.8306835889816284, 'Y': 0.5765922665596008}, {'X': 0.8038339018821716, 'Y': 0.5767982006072998}]}, 'Id': 'c7b6ea10-f7d2-4487-91f7-2c69bd65c621'}, {'BlockType': 'WORD', 'Confidence': 99.60628509521484, 'Text': 'blenders', 'TextType': 'PRINTED', 'Geometry': {'BoundingBox': {'Width': 0.10801584273576736, 'Height': 0.052655551582574844, 'Left': 0.8380658030509949, 'Top': 0.5252166390419006}, 'Polygon': [{'X': 0.8380807042121887, 'Y': 0.5261852145195007}, {'X': 0.9460816383361816, 'Y': 0.5252166390419006}, {'X': 0.9460694193840027, 'Y': 0.5770473480224609}, {'X': 0.8380658030509949, 'Y': 0.5778722167015076}]}, 'Id': '6127f3a3-6106-40de-9b78-f5da36457b5f'}, {'BlockType': 'WORD', 'Confidence': 99.8939437866211, 'Text': 'Seattle', 'TextType': 'PRINTED', 'Geometry': {'BoundingBox': {'Width': 0.08030887693166733, 'Height': 0.04780399799346924, 'Left': 0.07522442191839218, 'Top': 0.6822876334190369}, 'Polygon': [{'X': 0.07525570690631866, 'Y': 0.6826920509338379}, {'X': 0.1555332988500595, 'Y': 0.6822876334190369}, {'X': 0.15550380945205688, 'Y': 0.7297871708869934}, {'X': 0.07522442191839218, 'Y': 0.7300916314125061}]}, 'Id': '35196f26-6545-4c75-b493-8c7b8919de89'}, {'BlockType': 'WORD', 'Confidence': 99.98114776611328, 'Text': 'is', 'TextType': 'PRINTED', 'Geometry': {'BoundingBox': {'Width': 0.01810363307595253, 'Height': 0.044985249638557434, 'Left': 0.16168616712093353, 'Top': 0.6840358972549438}, 'Polygon': [{'X': 0.16171389818191528, 'Y': 0.684126079082489}, {'X': 0.17978979647159576, 'Y': 0.6840358972549438}, {'X': 0.17976243793964386, 'Y': 0.7289522290229797}, {'X': 0.16168616712093353, 'Y': 0.7290211915969849}]}, 'Id': 'de0629af-49a3-4b7f-be53-9483d77e4934'}, {'BlockType': 'WORD', 'Confidence': 99.96514892578125, 'Text': 'north', 'TextType': 'PRINTED', 'Geometry': {'BoundingBox': {'Width': 0.0635450929403305, 'Height': 0.04731956496834755, 'Left': 0.18629829585552216, 'Top': 0.6836663484573364}, 'Polygon': [{'X': 0.1863267719745636, 'Y': 0.6839832663536072}, {'X': 0.24984338879585266, 'Y': 0.6836663484573364}, {'X': 0.24981632828712463, 'Y': 0.7307472229003906}, {'X': 0.18629829585552216, 'Y': 0.7309859395027161}]}, 'Id': '3fdfba3d-af6d-43aa-bd9a-b2aa637f2192'}, {'BlockType': 'WORD', 'Confidence': 99.99009704589844, 'Text': 'of', 'TextType': 'PRINTED', 'Geometry': {'BoundingBox': {'Width': 0.024853093549609184, 'Height': 0.04756859317421913, 'Left': 0.2569577097892761, 'Top': 0.6837997436523438}, 'Polygon': [{'X': 0.25698480010032654, 'Y': 0.6839234232902527}, {'X': 0.28181079030036926, 'Y': 0.6837997436523438}, {'X': 0.2817842364311218, 'Y': 0.7312754988670349}, {'X': 0.2569577097892761, 'Y': 0.731368362903595}]}, 'Id': '4d7b5003-12e1-41c7-8014-39273078bfd3'}, {'BlockType': 'WORD', 'Confidence': 99.8867416381836, 'Text': 'Portland', 'TextType': 'PRINTED', 'Geometry': {'BoundingBox': {'Width': 0.09941527992486954, 'Height': 0.04930541664361954, 'Left': 0.2876904606819153, 'Top': 0.684167742729187}, 'Polygon': [{'X': 0.2877176105976105, 'Y': 0.6846605539321899}, {'X': 0.3871057331562042, 'Y': 0.684167742729187}, {'X': 0.3870808780193329, 'Y': 0.7331070899963379}, {'X': 0.2876904606819153, 'Y': 0.7334731817245483}]}, 'Id': '4533ef1b-193c-4be8-9082-7dd26285c86f'}, {'BlockType': 'WORD', 'Confidence': 99.98682403564453, 'Text': 'and', 'TextType': 'PRINTED', 'Geometry': {'BoundingBox': {'Width': 0.04322255030274391, 'Height': 0.04762625694274902, 'Left': 0.3940450847148895, 'Top': 0.686999499797821}, 'Polygon': [{'X': 0.39406901597976685, 'Y': 0.687210202217102}, {'X': 0.43726763129234314, 'Y': 0.686999499797821}, {'X': 0.4372446835041046, 'Y': 0.7344683408737183}, {'X': 0.3940450847148895, 'Y': 0.7346257567405701}]}, 'Id': '7db32257-5fb9-472d-bc43-c03e511e1fb7'}, {'BlockType': 'WORD', 'Confidence': 99.95221710205078, 'Text': 'south', 'TextType': 'PRINTED', 'Geometry': {'BoundingBox': {'Width': 0.06586761772632599, 'Height': 0.04731089621782303, 'Left': 0.44425657391548157, 'Top': 0.6883717179298401}, 'Polygon': [{'X': 0.44427913427352905, 'Y': 0.6886899471282959}, {'X': 0.5101242065429688, 'Y': 0.6883717179298401}, {'X': 0.5101031064987183, 'Y': 0.7354448437690735}, {'X': 0.44425657391548157, 'Y': 0.7356826066970825}]}, 'Id': 'b32b5d13-1cbd-4f07-b373-3b1da4eb2f78'}, {'BlockType': 'WORD', 'Confidence': 99.99380493164062, 'Text': 'of', 'TextType': 'PRINTED', 'Geometry': {'BoundingBox': {'Width': 0.02553241327404976, 'Height': 0.04791188985109329, 'Left': 0.5179054737091064, 'Top': 0.6877769231796265}, 'Polygon': [{'X': 0.5179266929626465, 'Y': 0.6879005432128906}, {'X': 0.5434378385543823, 'Y': 0.6877769231796265}, {'X': 0.54341721534729, 'Y': 0.7355968952178955}, {'X': 0.5179054737091064, 'Y': 0.7356888055801392}]}, 'Id': 'fa8b07e0-8ce1-458c-afb5-6cadd892dfcb'}, {'BlockType': 'WORD', 'Confidence': 99.81637573242188, 'Text': 'Vancouver,', 'TextType': 'PRINTED', 'Geometry': {'BoundingBox': {'Width': 0.1355089247226715, 'Height': 0.055325642228126526, 'Left': 0.5473873019218445, 'Top': 0.6898678541183472}, 'Polygon': [{'X': 0.547410786151886, 'Y': 0.6905145049095154}, {'X': 0.6828961968421936, 'Y': 0.6898678541183472}, {'X': 0.6828762292861938, 'Y': 0.7447389960289001}, {'X': 0.5473873019218445, 'Y': 0.7451934814453125}]}, 'Id': '9fce9822-cab6-455f-8aee-d7cab45202fa'}, {'BlockType': 'WORD', 'Confidence': 99.20600891113281, 'Text': 'BC.', 'TextType': 'PRINTED', 'Geometry': {'BoundingBox': {'Width': 0.0380917452275753, 'Height': 0.0455966591835022, 'Left': 0.6907728314399719, 'Top': 0.6908568143844604}, 'Polygon': [{'X': 0.6907892227172852, 'Y': 0.6910373568534851}, {'X': 0.7288646101951599, 'Y': 0.6908568143844604}, {'X': 0.7288490533828735, 'Y': 0.7363175749778748}, {'X': 0.6907728314399719, 'Y': 0.7364534735679626}]}, 'Id': '060e1cf5-fce3-4c3a-8629-5aeaa07a36ac'}], 'DetectDocumentTextModelVersion': '1.0', 'ResponseMetadata': {'RequestId': '5604c3d1-10a0-40c3-9271-b10c629cce08', 'HTTPStatusCode': 200, 'HTTPHeaders': {'x-amzn-requestid': '5604c3d1-10a0-40c3-9271-b10c629cce08', 'content-type': 'application/x-amz-json-1.1', 'content-length': '21197', 'date': 'Mon, 12 May 2025 14:39:24 GMT'}, 'RetryAttempts': 0}}\n"
     ]
    }
   ],
   "source": [
    "# Amazon Textract client\n",
    "textract = boto3.client('textract')\n",
    "\n",
    "# Call Amazon Textract\n",
    "response = textract.detect_document_text(\n",
    "    Document={\n",
    "        'S3Object': {\n",
    "            'Bucket': s3BucketName,\n",
    "            'Name': documentName\n",
    "        }\n",
    "    })\n",
    "\n",
    "print(response)"
   ]
  },
  {
   "cell_type": "markdown",
   "metadata": {},
   "source": [
    "The response looks unformatted, but the **Blocks** list contains the key information that you need. \n",
    "\n",
    "Extract this information from the **Blocks** list:"
   ]
  },
  {
   "cell_type": "code",
   "execution_count": null,
   "metadata": {},
   "outputs": [],
   "source": [
    "# Print text\n",
    "print(\"\\nText\\n========\")\n",
    "text = \"\"\n",
    "for item in response[\"Blocks\"]:\n",
    "    if item[\"BlockType\"] == \"LINE\":\n",
    "        print ('\\033[94m' +  item[\"Text\"] + '\\033[0m')\n",
    "        text = text + \" \" + item[\"Text\"]"
   ]
  },
  {
   "cell_type": "markdown",
   "metadata": {},
   "source": [
    "You have now extracted the text from the image. You can use this text in a downstream NLP task."
   ]
  },
  {
   "cell_type": "markdown",
   "metadata": {},
   "source": [
    "You will now experiment with one additional image. This image contains *tables* of text.\n",
    "\n",
    "![Image of Employment Application](../s3/employmentapp.png)"
   ]
  },
  {
   "cell_type": "markdown",
   "metadata": {},
   "source": [
    "Set the new document name:"
   ]
  },
  {
   "cell_type": "code",
   "execution_count": 23,
   "metadata": {},
   "outputs": [],
   "source": [
    "# Document\n",
    "documentName = \"lab31/employmentapp.png\""
   ]
  },
  {
   "cell_type": "markdown",
   "metadata": {},
   "source": [
    "Call the Amazon Textract API again. However, this time, specify the **TABLES** feature type:"
   ]
  },
  {
   "cell_type": "code",
   "execution_count": 24,
   "metadata": {},
   "outputs": [],
   "source": [
    "# Amazon Textract client\n",
    "\n",
    "response = textract.analyze_document(\n",
    "    Document={\n",
    "        'S3Object': {\n",
    "            'Bucket': s3BucketName,\n",
    "            'Name': documentName\n",
    "        }\n",
    "    },\n",
    "    FeatureTypes=[\"TABLES\"])\n"
   ]
  },
  {
   "cell_type": "markdown",
   "metadata": {},
   "source": [
    "Parse the table by using the Amazon Textract results parser (**textract-trp**).\n",
    "\n",
    "**Note:** You installed the Amazon Textract results parser when you ran the `pip install --upgrade textract-trp` command at the start of this notebook."
   ]
  },
  {
   "cell_type": "code",
   "execution_count": 25,
   "metadata": {},
   "outputs": [
    {
     "name": "stdout",
     "output_type": "stream",
     "text": [
      "Table[0][0] = Applicant \n",
      "Table[0][1] = Information \n",
      "Table[1][0] = Full Name: Jane \n",
      "Table[1][1] = Doe \n",
      "Table[2][0] = Phone Number: \n",
      "Table[2][1] = 555-0100 \n",
      "Table[3][0] = Home Address: \n",
      "Table[3][1] = 123 Any Street, Any Town, USA \n",
      "Table[4][0] = Mailing Address: \n",
      "Table[4][1] = same as home address \n",
      "Table[0][0] = \n",
      "Table[0][1] = \n",
      "Table[0][2] = Previous Employment \n",
      "Table[0][3] = History \n",
      "Table[0][4] = \n",
      "Table[1][0] = Start Date \n",
      "Table[1][1] = End Date \n",
      "Table[1][2] = Employer Name \n",
      "Table[1][3] = Position Held \n",
      "Table[1][4] = Reason for leaving \n",
      "Table[2][0] = 1/15/2009 \n",
      "Table[2][1] = 6/30/2011 \n",
      "Table[2][2] = AnyCompany \n",
      "Table[2][3] = Assistant Baker \n",
      "Table[2][4] = Family relocated \n",
      "Table[3][0] = 7/1/2011 \n",
      "Table[3][1] = 8/10/2013 \n",
      "Table[3][2] = AnyCompany Bread \n",
      "Table[3][3] = Baker \n",
      "Table[3][4] = Better opportunity \n",
      "Table[4][0] = 8/15/2013 \n",
      "Table[4][1] = present \n",
      "Table[4][2] = Example Corp. \n",
      "Table[4][3] = Head Baker \n",
      "Table[4][4] = N/A, current employer \n"
     ]
    }
   ],
   "source": [
    "from trp import Document\n",
    "doc = Document(response)\n",
    "\n",
    "for page in doc.pages:\n",
    "    for table in page.tables:\n",
    "        for r, row in enumerate(table.rows):\n",
    "            for c, cell in enumerate(row.cells):\n",
    "                print(\"Table[{}][{}] = {}\".format(r, c, cell.text))"
   ]
  },
  {
   "cell_type": "markdown",
   "metadata": {},
   "source": [
    "You have now extracted the text from a different image, and you could continue to process it further, if needed."
   ]
  },
  {
   "cell_type": "markdown",
   "metadata": {},
   "source": [
    "# Congratulations!\n",
    "\n",
    "You have completed this lab, and you can now end the lab by following the lab guide instructions."
   ]
  },
  {
   "cell_type": "markdown",
   "metadata": {},
   "source": [
    "*©2023 Amazon Web Services, Inc. or its affiliates. All rights reserved. This work may not be reproduced or redistributed, in whole or in part, without prior written permission from Amazon Web Services, Inc. Commercial copying, lending, or selling is prohibited. All trademarks are the property of their owners.*"
   ]
  }
 ],
 "metadata": {
  "instance_type": "ml.t3.medium",
  "kernelspec": {
   "display_name": "conda_python3",
   "language": "python",
   "name": "conda_python3"
  },
  "language_info": {
   "codemirror_mode": {
    "name": "ipython",
    "version": 3
   },
   "file_extension": ".py",
   "mimetype": "text/x-python",
   "name": "python",
   "nbconvert_exporter": "python",
   "pygments_lexer": "ipython3",
   "version": "3.10.17"
  }
 },
 "nbformat": 4,
 "nbformat_minor": 4
}
